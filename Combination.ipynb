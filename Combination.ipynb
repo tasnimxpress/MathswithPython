{
 "cells": [
  {
   "cell_type": "markdown",
   "id": "cb196a9f-4150-4600-9197-99390d63e1f8",
   "metadata": {},
   "source": [
    "# Combination"
   ]
  },
  {
   "cell_type": "markdown",
   "id": "dc1b1b91-dfc9-48ff-bebe-45fba70e3102",
   "metadata": {},
   "source": [
    "## Math library"
   ]
  },
  {
   "cell_type": "code",
   "execution_count": 1,
   "id": "6a815732-892f-48d5-8367-fcc4f5341d09",
   "metadata": {},
   "outputs": [],
   "source": [
    "import math"
   ]
  },
  {
   "cell_type": "code",
   "execution_count": 2,
   "id": "684504be-a4d7-41af-a801-29797f913fe8",
   "metadata": {},
   "outputs": [],
   "source": [
    "n = 5\n",
    "r = 2"
   ]
  },
  {
   "cell_type": "code",
   "execution_count": 3,
   "id": "7a57cb56-0e62-4b52-8ba7-3eecd751ce96",
   "metadata": {},
   "outputs": [
    {
     "data": {
      "text/plain": [
       "10"
      ]
     },
     "execution_count": 3,
     "metadata": {},
     "output_type": "execute_result"
    }
   ],
   "source": [
    "result = math.comb(n, r)\n",
    "result"
   ]
  },
  {
   "cell_type": "markdown",
   "id": "35ffeb14-ac19-4042-a822-4d6ca6cb6f52",
   "metadata": {},
   "source": [
    "## Scipy library"
   ]
  },
  {
   "cell_type": "code",
   "execution_count": 4,
   "id": "d8b9eec2-6c28-452b-9e58-102eda6838a6",
   "metadata": {},
   "outputs": [],
   "source": [
    "import scipy.special"
   ]
  },
  {
   "cell_type": "code",
   "execution_count": 5,
   "id": "3e11aa51-cd76-4d3f-8f45-5dc4e5c14319",
   "metadata": {},
   "outputs": [],
   "source": [
    "n = 8\n",
    "r = 4"
   ]
  },
  {
   "cell_type": "code",
   "execution_count": 7,
   "id": "ca9642c4-04ce-4f6e-b1c5-cf3b34a4fbc3",
   "metadata": {},
   "outputs": [
    {
     "data": {
      "text/plain": [
       "70"
      ]
     },
     "execution_count": 7,
     "metadata": {},
     "output_type": "execute_result"
    }
   ],
   "source": [
    "result = scipy.special.comb(n, r, exact=True)\n",
    "result"
   ]
  }
 ],
 "metadata": {
  "kernelspec": {
   "display_name": "Python 3 (ipykernel)",
   "language": "python",
   "name": "python3"
  },
  "language_info": {
   "codemirror_mode": {
    "name": "ipython",
    "version": 3
   },
   "file_extension": ".py",
   "mimetype": "text/x-python",
   "name": "python",
   "nbconvert_exporter": "python",
   "pygments_lexer": "ipython3",
   "version": "3.12.3"
  }
 },
 "nbformat": 4,
 "nbformat_minor": 5
}
