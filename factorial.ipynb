{
 "cells": [
  {
   "cell_type": "markdown",
   "id": "a43fafee-4f24-4fbb-a84e-9eec62626175",
   "metadata": {},
   "source": [
    "# Factorial"
   ]
  },
  {
   "cell_type": "markdown",
   "id": "c7e76b11-60fa-47cc-876c-be8fe83241c7",
   "metadata": {},
   "source": [
    "## Math Library"
   ]
  },
  {
   "cell_type": "code",
   "execution_count": 11,
   "id": "dccc59e0-a5e3-4284-9e78-c6ad67bac835",
   "metadata": {},
   "outputs": [],
   "source": [
    "import math"
   ]
  },
  {
   "cell_type": "code",
   "execution_count": 12,
   "id": "b045df18-20b5-49b2-89ce-02b8091ba9e1",
   "metadata": {},
   "outputs": [],
   "source": [
    "num = 5\n",
    "factorial_num = math.factorial(num)"
   ]
  },
  {
   "cell_type": "code",
   "execution_count": 13,
   "id": "aa9288c7-4888-457e-9961-b42f3bcbf5ad",
   "metadata": {},
   "outputs": [
    {
     "data": {
      "text/plain": [
       "120"
      ]
     },
     "execution_count": 13,
     "metadata": {},
     "output_type": "execute_result"
    }
   ],
   "source": [
    "factorial_num"
   ]
  },
  {
   "cell_type": "markdown",
   "id": "9159410a-a725-4cf7-8c62-c6f64009aa74",
   "metadata": {},
   "source": [
    "## Scipy library"
   ]
  },
  {
   "cell_type": "code",
   "execution_count": 14,
   "id": "b8a6dc94-7cd8-415e-9213-0f6b7bb9cabd",
   "metadata": {},
   "outputs": [],
   "source": [
    "import scipy.special"
   ]
  },
  {
   "cell_type": "code",
   "execution_count": 15,
   "id": "bf08106f-1d68-4dc6-9678-6a97de3a76a3",
   "metadata": {},
   "outputs": [],
   "source": [
    "n = 7"
   ]
  },
  {
   "cell_type": "code",
   "execution_count": 16,
   "id": "e3281538-1c06-4293-87c6-e0273059056f",
   "metadata": {},
   "outputs": [
    {
     "data": {
      "text/plain": [
       "5040.0"
      ]
     },
     "execution_count": 16,
     "metadata": {},
     "output_type": "execute_result"
    }
   ],
   "source": [
    "factorial_n = scipy.special.factorial(n)\n",
    "factorial_n"
   ]
  },
  {
   "cell_type": "markdown",
   "id": "059b89b6-1118-4fac-aea5-2239007069ea",
   "metadata": {},
   "source": [
    "* exact=True to remove the decimal value"
   ]
  },
  {
   "cell_type": "code",
   "execution_count": 17,
   "id": "a2af0a25-2c29-47c7-b8ff-70148a60a2ef",
   "metadata": {},
   "outputs": [
    {
     "data": {
      "text/plain": [
       "5040"
      ]
     },
     "execution_count": 17,
     "metadata": {},
     "output_type": "execute_result"
    }
   ],
   "source": [
    "factorial_n = scipy.special.factorial(n, exact=True)\n",
    "factorial_n"
   ]
  },
  {
   "cell_type": "code",
   "execution_count": null,
   "id": "98cc7c15-a02b-44b6-a659-e6e0b09c66b4",
   "metadata": {},
   "outputs": [],
   "source": []
  }
 ],
 "metadata": {
  "kernelspec": {
   "display_name": "Python 3 (ipykernel)",
   "language": "python",
   "name": "python3"
  },
  "language_info": {
   "codemirror_mode": {
    "name": "ipython",
    "version": 3
   },
   "file_extension": ".py",
   "mimetype": "text/x-python",
   "name": "python",
   "nbconvert_exporter": "python",
   "pygments_lexer": "ipython3",
   "version": "3.12.3"
  }
 },
 "nbformat": 4,
 "nbformat_minor": 5
}
