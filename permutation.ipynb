{
 "cells": [
  {
   "cell_type": "markdown",
   "id": "1bb829aa-cb36-4cc0-940b-8650a117c247",
   "metadata": {},
   "source": [
    "# Permutation"
   ]
  },
  {
   "cell_type": "markdown",
   "id": "e90c49d7-9f85-4a49-a795-ef397a65b5e7",
   "metadata": {},
   "source": [
    "## Math Library"
   ]
  },
  {
   "cell_type": "code",
   "execution_count": 2,
   "id": "e4e34073-1824-4b2f-ba7a-d17a1588c331",
   "metadata": {},
   "outputs": [],
   "source": [
    "import math"
   ]
  },
  {
   "cell_type": "code",
   "execution_count": 3,
   "id": "a07fe103-78f5-46b9-8962-d996becf2a17",
   "metadata": {},
   "outputs": [],
   "source": [
    "n = 5\n",
    "r = 2"
   ]
  },
  {
   "cell_type": "code",
   "execution_count": 4,
   "id": "8bcc1a72-d575-4f5d-9c90-ae540f1ffe4d",
   "metadata": {},
   "outputs": [
    {
     "data": {
      "text/plain": [
       "20"
      ]
     },
     "execution_count": 4,
     "metadata": {},
     "output_type": "execute_result"
    }
   ],
   "source": [
    "result = math.perm(n, r)\n",
    "result"
   ]
  },
  {
   "cell_type": "markdown",
   "id": "04b8a79c-a731-4bd9-b6be-20376b3f14f4",
   "metadata": {},
   "source": [
    "## Scipy library"
   ]
  },
  {
   "cell_type": "code",
   "execution_count": 6,
   "id": "53451c42-d334-4267-bedb-37e871c8878d",
   "metadata": {},
   "outputs": [],
   "source": [
    "import scipy.special"
   ]
  },
  {
   "cell_type": "code",
   "execution_count": 7,
   "id": "97e7fe5f-de31-4e50-9bfe-514b21846074",
   "metadata": {},
   "outputs": [],
   "source": [
    "n = 10\n",
    "r = 4"
   ]
  },
  {
   "cell_type": "code",
   "execution_count": 9,
   "id": "475be457-484f-4b86-b4bb-5235619e2a1e",
   "metadata": {},
   "outputs": [
    {
     "data": {
      "text/plain": [
       "5040.0"
      ]
     },
     "execution_count": 9,
     "metadata": {},
     "output_type": "execute_result"
    }
   ],
   "source": [
    "result = scipy.special.perm(n, r)\n",
    "result"
   ]
  },
  {
   "cell_type": "markdown",
   "id": "517cd9b6-cd53-442f-a2e0-8db40f39b8e8",
   "metadata": {},
   "source": [
    "* exact=True to remove decimal point"
   ]
  },
  {
   "cell_type": "code",
   "execution_count": 11,
   "id": "d04cd839-5fe0-435a-a887-757752e06c6b",
   "metadata": {},
   "outputs": [
    {
     "data": {
      "text/plain": [
       "5040"
      ]
     },
     "execution_count": 11,
     "metadata": {},
     "output_type": "execute_result"
    }
   ],
   "source": [
    "result = scipy.special.perm(n, r, exact=True)\n",
    "result"
   ]
  },
  {
   "cell_type": "code",
   "execution_count": null,
   "id": "7ac384d8-77c1-4151-a1a5-7410da1922ca",
   "metadata": {},
   "outputs": [],
   "source": []
  }
 ],
 "metadata": {
  "kernelspec": {
   "display_name": "Python 3 (ipykernel)",
   "language": "python",
   "name": "python3"
  },
  "language_info": {
   "codemirror_mode": {
    "name": "ipython",
    "version": 3
   },
   "file_extension": ".py",
   "mimetype": "text/x-python",
   "name": "python",
   "nbconvert_exporter": "python",
   "pygments_lexer": "ipython3",
   "version": "3.12.3"
  }
 },
 "nbformat": 4,
 "nbformat_minor": 5
}
